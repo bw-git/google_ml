{
 "cells": [
  {
   "cell_type": "code",
   "execution_count": null,
   "metadata": {},
   "outputs": [],
   "source": [
    "import math\n",
    "from IPython import display\n",
    "from matplotlib import cm\n",
    "from matplotlib import gridspec\n",
    "from matplotlib import pyplot as plt\n",
    "import numpy as np\n",
    "import pandas as pd\n",
    "from sklearn import metrics\n",
    "import tensorflow as tf\n",
    "from tensorflow.python.data import Dataset\n",
    "\n",
    "tf.logging.set_verbosity(tf.logging.ERROR)\n",
    "pd.options.display.max_row=10\n",
    "pd.options.display.float_format='{:.1f}'.format"
   ]
  },
  {
   "cell_type": "code",
   "execution_count": null,
   "metadata": {},
   "outputs": [],
   "source": [
    "california_housing_dataframe=pd.read_csv(\"https://storage.googleapis.com/mledu-datasets/california_housing_train.csv\",sep=\",\")"
   ]
  },
  {
   "cell_type": "code",
   "execution_count": null,
   "metadata": {},
   "outputs": [],
   "source": [
    "california_housing_dataframe=california_housing_dataframe.reindex(\n",
    "    np.random.permutation(california_housing_dataframe.index))\n",
    "california_housing_dataframe[\"median_house_value\"] /= 1000.0\n",
    "california_housing_dataframe"
   ]
  },
  {
   "cell_type": "code",
   "execution_count": null,
   "metadata": {
    "collapsed": true
   },
   "outputs": [],
   "source": [
    "california_housing_dataframe.describe()"
   ]
  },
  {
   "cell_type": "code",
   "execution_count": null,
   "metadata": {
    "collapsed": true
   },
   "outputs": [],
   "source": [
    "my_feature=califronia_housing_dataframe[[\"total_rooms\"]]\n",
    "feature_columns=[tf.feature_column.numeric_column(\"total_rooms\")]"
   ]
  },
  {
   "cell_type": "code",
   "execution_count": null,
   "metadata": {
    "collapsed": true
   },
   "outputs": [],
   "source": [
    "targets=california_housing_dataframe[\"median_house_value\"]"
   ]
  },
  {
   "cell_type": "markdown",
   "metadata": {},
   "source": [
    "my_optimizer=tf.train.GrandientDescentOptimizer(learning_rate=0.00001)\n",
    "my_optimizer=tf.contrib.estimator.clip_grandients_by_norm(my_optimizer,5.0)\n",
    "\n",
    "linear_regressor=tf.estimator.LinearRegressor(\n",
    "    feature_columns=feature_columns,\n",
    "    optimizer=my_optimizer\n",
    ")"
   ]
  },
  {
   "cell_type": "code",
   "execution_count": null,
   "metadata": {
    "collapsed": true
   },
   "outputs": [],
   "source": [
    "def my_input_fn(features,targets,batch_size=1,shuffle=True,num_epochs=None):\n",
    "    features={key:np.array(value) for key,value in dict(features).items()}\n",
    "    ds=Dataset.from_tensor_slices((features,targets))\n",
    "    ds=ds.batch(batch_size).repeat(num_epochs)\n",
    "    if shuffle:\n",
    "        ds=ds.shuffle(buffer_size=10000)\n",
    "    features,labels=ds.make_one_shot_iterator().get_next()\n",
    "    return features,labels"
   ]
  },
  {
   "cell_type": "code",
   "execution_count": null,
   "metadata": {
    "collapsed": true
   },
   "outputs": [],
   "source": [
    "_=linear_regressor.train(\n",
    "    input_fn=lambda:my_input_fn(my_feature,targets),\n",
    "    steps=100\n",
    ")"
   ]
  },
  {
   "cell_type": "code",
   "execution_count": null,
   "metadata": {
    "collapsed": true
   },
   "outputs": [],
   "source": [
    "prediction_input_fn=lambda:my_input_fn(my_feature,targets,num_epochs=1,shuffle=False)\n",
    "predictions=linear_regressor.predict(input_fn=prediction_input_fn)\n",
    "predictions=np.array([item['predictions'][0] for item in predictions])\n",
    "mean_squared_error=metrics.mean_squared_error(predictions,targets)\n",
    "root_mean_squared_error=math.sqrt(mean_squared_error)\n",
    "print \"Mean Squared Error (on training data):%0.3f\" %mean_squared_error\n",
    "print \"Root Mean Squared Error (on training data):%0.3f\" %root_mean_squared_error"
   ]
  },
  {
   "cell_type": "code",
   "execution_count": 5,
   "metadata": {},
   "outputs": [
    {
     "ename": "SyntaxError",
     "evalue": "invalid syntax (<ipython-input-5-591cbd3b9a7b>, line 2)",
     "output_type": "error",
     "traceback": [
      "\u001b[1;36m  File \u001b[1;32m\"<ipython-input-5-591cbd3b9a7b>\"\u001b[1;36m, line \u001b[1;32m2\u001b[0m\n\u001b[1;33m    max_house_value=california_housing_dataframe[]\u001b[0m\n\u001b[1;37m                                                 ^\u001b[0m\n\u001b[1;31mSyntaxError\u001b[0m\u001b[1;31m:\u001b[0m invalid syntax\n"
     ]
    }
   ],
   "source": [
    "min_house_value=california_housing_dataframe[\"median_house_value\"].min()\n",
    "max_house_value=california_housing_dataframe[\"median_house_value\"].max()\n",
    "min_max_difference=max_house_value-min_house_value\n",
    "print \"Min Median House Value:%0.3f\"%min_house_value\n",
    "print \"Max Median House Value:%0.3f\"%max_house_value\n",
    "print \"Difference between Min and Max:%0.3f\"%min_max_difference\n",
    "print \"Root Mean Squaerd Error:%0.3f\"%root_mean_squared_error"
   ]
  },
  {
   "cell_type": "code",
   "execution_count": null,
   "metadata": {
    "collapsed": true
   },
   "outputs": [],
   "source": [
    "calibration_data=pd.DataFrame()\n",
    "calibration_data[\"predictions\"]=pd.Series(predictions)\n",
    "calibration_data[\"target\"]=pd.Series(targets)\n",
    "calibration_data.describe()"
   ]
  },
  {
   "cell_type": "code",
   "execution_count": null,
   "metadata": {
    "collapsed": true
   },
   "outputs": [],
   "source": [
    "sample=aclifornia_housing_dataframe.sample(n=300)"
   ]
  },
  {
   "cell_type": "code",
   "execution_count": null,
   "metadata": {
    "collapsed": true
   },
   "outputs": [],
   "source": [
    "x_0=sample[\"total_rooms\"].min()\n",
    "x_1=sample[\"total_rooms\"].max()\n",
    "weight=linear_regressor.get_variable_value('linear/linear_model/total_rooms/weights')[0]\n",
    "bias=linear_regressor.get_variable_value('linear/linear_model/bias_weights')\n",
    "y_0=weight*x_0+bias\n",
    "y_1=weight*x_1+bias\n",
    "plt.plot([x_0,x_1],[y_0,y_1],c='r')\n",
    "plt.ylable(\"median_house_value\")\n",
    "plt.xlable(\"total_rooms\")\n",
    "plt.scatter(sample[\"total_rooms\"],sample[\"median_house_value\"])\n",
    "plt.show()"
   ]
  },
  {
   "cell_type": "code",
   "execution_count": null,
   "metadata": {
    "collapsed": true
   },
   "outputs": [],
   "source": [
    "def train_model(learning_rate,steps,batch_size,input_feature=\"total_rooms\"):\n",
    "    periods=10\n",
    "    steps_per_perriod = steps/periods\n",
    "    my_feature = input_feature\n",
    "    my_feature_data=california_housing_dataframe[[my_feature]]\n",
    "    my_label=\"median_house_value\"\n",
    "    targets=california_housing_dataframe[my_label]\n",
    "    \n",
    "    feature_columns=[tf.feature_column.numeric_column(my_feature)]\n",
    "    \n",
    "    training_input_fn=lambda:my_input_fn(my_feature_data,targets,batch_size=batch_size)\n",
    "    predicting_input_fn=lambda:my_input_fn(my_feature_data,targets,num_epochs=1,shuffle=False)\n",
    "    \n",
    "    my_optimizer=tf.train.GradientDescentOptimizer(learning_rate=learning_rate)\n",
    "    my_optimizer=tf.contrib.estimator.clip_gradients_by_norm(my_optimizer,5.0)\n",
    "    linear_regressor=tf.estimator.LinearRegressor(\n",
    "        feature_columns=feature_columns,\n",
    "        optimizer=my_optimizer\n",
    "    )\n",
    "    \n",
    "    plt.figure(figsize(15,6))\n",
    "    plt.subplot(1,2,1)\n",
    "    plt.title(\"Learned Line by Period\")\n",
    "    plt.ylabel(my_label)\n",
    "    plt.xlabel(my_feature)\n",
    "    sample=california_housing_dataframe.sample(n=300)\n",
    "    plt.scatter(sample[my_feathre],sample[my_label])\n",
    "    colors=[cm.coolwarm(x) for x in np.linespace(-1,1,periods)]\n",
    "    \n",
    "    print \"Training model...\"\n",
    "    print \"RMSE (on training data):\"\n",
    "    root_mean_squared_errors=[]\n",
    "    for period in range(0,periods):\n",
    "        linear_regressor.train(\n",
    "            input_fn=training_input_fn,\n",
    "            steps=steps_per_period\n",
    "        )\n",
    "    predictions=linear_regressor.predict(input_fn=prediction_input_fn)\n",
    "    predictions=np.array([item['predictions'][0] for item in predictions])\n",
    "    \n",
    "    root_mean_squared_error=math.sqrt(metrics.mean_squared_error(predictions,targets))\n",
    "    \n",
    "    print \"period %02d:%0.2f\"%(period,root_mean_squared_error)\n",
    "    \n",
    "    root_mean_squared_errors.append(root_mean_squared_error)\n",
    "    \n",
    "    y_extents=np.array([0,sample[my_label].max()])\n",
    "    weight=linear_regressor.get_variable_value('linear/linear_model/%s/weights'%input_feature)\n",
    "    bias = linear_regressor.get_vairable_value('linear/linear_model/bias_weights')\n",
    "    \n",
    "    x_extents=(y_extents-bias)/weight\n",
    "    x_extents=np.maximum(np.minimum(x_extents,\n",
    "                                   sample[my_feature].max()),\n",
    "                        sample[my_feature].min())\n",
    "    y_extents=weight*x_extents+bias\n",
    "    plt.plot(x_extents,y_extents,color=color[period])\n",
    "print \"Model training finished.\"\n",
    "\n",
    "plt.subplot(1,2,2)\n",
    "plt.ylabel('RMSE')\n",
    "plt.xlabel('Periods')\n",
    "plt.title(\"Root Mean Squared Error vs. Periods\")\n",
    "plt.tight_layout()\n",
    "plt.plot(root_mean_squared_errors)\n",
    "\n",
    "calibration_data=pd.DataFrame()\n",
    "calibration_data[\"predictions\"]=pd.Series(predictions)\n",
    "calibration_data[\"targets\"]=pd.Series(targets)\n",
    "display.display(calibration_data.describe())\n",
    "print \"Final RMSE (on training data): %0.2f\" % root_mean_squared_error"
   ]
  },
  {
   "cell_type": "raw",
   "metadata": {},
   "source": [
    "train_model(learning_rate=0.0001,steps=100,batch_size=1)\n",
    "train_model(learning_rate=0.0003,steps=1000,batch_size=5,input_feature=\"population\")"
   ]
  }
 ],
 "metadata": {
  "kernelspec": {
   "display_name": "Python 3",
   "language": "python",
   "name": "python3"
  },
  "language_info": {
   "codemirror_mode": {
    "name": "ipython",
    "version": 3
   },
   "file_extension": ".py",
   "mimetype": "text/x-python",
   "name": "python",
   "nbconvert_exporter": "python",
   "pygments_lexer": "ipython3",
   "version": "3.6.3"
  }
 },
 "nbformat": 4,
 "nbformat_minor": 2
}
